{
 "cells": [
  {
   "cell_type": "code",
   "execution_count": 1,
   "id": "31ab35e1-10fa-4319-ba5c-2c807f36be49",
   "metadata": {},
   "outputs": [],
   "source": [
    "# Import necessary libraries\n",
    "import tensorflow as tf\n",
    "from tensorflow.keras.preprocessing.image import ImageDataGenerator\n",
    "from tensorflow.keras.applications import DenseNet121\n",
    "from tensorflow.keras.layers import Dense, GlobalAveragePooling2D, Dropout\n",
    "from tensorflow.keras.models import Model\n",
    "from tensorflow.keras.optimizers import Adam\n",
    "from tensorflow.keras.callbacks import ReduceLROnPlateau, EarlyStopping\n",
    "from sklearn.utils.class_weight import compute_class_weight\n",
    "import numpy as np"
   ]
  },
  {
   "cell_type": "code",
   "execution_count": 2,
   "id": "2d6183c5-0048-458a-b152-27717e71d42f",
   "metadata": {},
   "outputs": [],
   "source": [
    "tf.keras.backend.clear_session()"
   ]
  },
  {
   "cell_type": "code",
   "execution_count": 3,
   "id": "ddf9af9a-309d-4cbb-9897-4c432830b7a7",
   "metadata": {},
   "outputs": [],
   "source": [
    "# Paths to your local dataset\n",
    "base_dir = 'D:/Rice Leaf Diseases Dataset'"
   ]
  },
  {
   "cell_type": "code",
   "execution_count": 4,
   "id": "3333587e-b20c-46b4-8b96-7689e25a8f4b",
   "metadata": {},
   "outputs": [],
   "source": [
    "# Image dimensions and batch size\n",
    "img_height, img_width = 227, 227\n",
    "batch_size = 16"
   ]
  },
  {
   "cell_type": "code",
   "execution_count": 5,
   "id": "6ae859aa-5fa2-4940-8198-c5436f916873",
   "metadata": {},
   "outputs": [
    {
     "name": "stdout",
     "output_type": "stream",
     "text": [
      "Found 6946 images belonging to 4 classes.\n",
      "Found 1735 images belonging to 4 classes.\n"
     ]
    }
   ],
   "source": [
    "# Data augmentation with additional techniques\n",
    "datagen = ImageDataGenerator(\n",
    "    rescale=1./255,\n",
    "    rotation_range=30,\n",
    "    horizontal_flip=True,\n",
    "    vertical_flip=True,\n",
    "    fill_mode='nearest',\n",
    "    validation_split=0.2  # Reserve 20% of data for validation\n",
    ")\n",
    "\n",
    "train_generator = datagen.flow_from_directory(\n",
    "    base_dir,\n",
    "    target_size=(img_height, img_width),\n",
    "    batch_size=batch_size,\n",
    "    class_mode='categorical',\n",
    "    subset='training'\n",
    ")\n",
    "\n",
    "val_generator = datagen.flow_from_directory(\n",
    "    base_dir,\n",
    "    target_size=(img_height, img_width),\n",
    "    batch_size=batch_size,\n",
    "    class_mode='categorical',\n",
    "    subset='validation'\n",
    ")"
   ]
  },
  {
   "cell_type": "code",
   "execution_count": 6,
   "id": "b144a2a7-37d6-4218-bcce-0ce84290b4f9",
   "metadata": {},
   "outputs": [],
   "source": [
    "# Compute class weights to handle class imbalance\n",
    "class_labels = train_generator.class_indices\n",
    "class_weights = compute_class_weight('balanced', classes=np.arange(len(class_labels)), y=train_generator.classes)\n",
    "class_weights_dict = dict(enumerate(class_weights))"
   ]
  },
  {
   "cell_type": "code",
   "execution_count": 7,
   "id": "f36dd042-5af0-4b86-b2eb-f829456f560b",
   "metadata": {},
   "outputs": [],
   "source": [
    "# Load the DenseNet121 model with pre-trained weights, excluding the top layer\n",
    "base_model = DenseNet121(weights='imagenet', include_top=False, input_shape=(img_height, img_width, 3))"
   ]
  },
  {
   "cell_type": "code",
   "execution_count": 8,
   "id": "85471f6e-88a1-444a-9e7b-d42d3f7f575f",
   "metadata": {},
   "outputs": [],
   "source": [
    "# Add custom layers\n",
    "x = base_model.output\n",
    "x = GlobalAveragePooling2D()(x)\n",
    "x = Dense(512, activation='relu')(x)\n",
    "x = Dropout(0.6)(x)  # Increased dropout rate\n",
    "predictions = Dense(4, activation='softmax')(x)  # 4 classes"
   ]
  },
  {
   "cell_type": "code",
   "execution_count": 9,
   "id": "223a4f34-d611-4101-a068-6ea82066752c",
   "metadata": {},
   "outputs": [],
   "source": [
    "# Create the model\n",
    "model = Model(inputs=base_model.input, outputs=predictions)"
   ]
  },
  {
   "cell_type": "code",
   "execution_count": 10,
   "id": "824f249d-0621-4553-96e5-af11b8e75011",
   "metadata": {},
   "outputs": [],
   "source": [
    "# Unfreeze more layers for fine-tuning\n",
    "for layer in base_model.layers:\n",
    "    layer.trainable = True\n",
    "\n",
    "# Compile the model with a lower learning rate\n",
    "model.compile(optimizer=Adam(learning_rate=1e-5),\n",
    "              loss='categorical_crossentropy',\n",
    "              metrics=['accuracy'])# Unfreeze more layers for fine-tuning\n",
    "for layer in base_model.layers:\n",
    "    layer.trainable = True\n",
    "\n",
    "# Compile the model with a lower learning rate\n",
    "model.compile(optimizer=Adam(learning_rate=1e-5),\n",
    "              loss='categorical_crossentropy',\n",
    "              metrics=['accuracy'])"
   ]
  },
  {
   "cell_type": "code",
   "execution_count": 11,
   "id": "a234f71f-8b55-46f8-bd46-5efc248d684c",
   "metadata": {},
   "outputs": [],
   "source": [
    "# Implement callbacks\n",
    "reduce_lr = ReduceLROnPlateau(monitor='val_loss', factor=0.2, patience=5, min_lr=1e-6)\n",
    "early_stop = EarlyStopping(monitor='val_loss', patience=10, restore_best_weights=True)"
   ]
  },
  {
   "cell_type": "code",
   "execution_count": 12,
   "id": "b879b914-5e1c-4528-aa17-690f2c3c99bb",
   "metadata": {},
   "outputs": [
    {
     "name": "stdout",
     "output_type": "stream",
     "text": [
      "Epoch 1/20\n",
      "435/435 [==============================] - 581s 1s/step - loss: 0.9904 - accuracy: 0.6061 - val_loss: 1.0931 - val_accuracy: 0.6519 - lr: 1.0000e-05\n",
      "Epoch 2/20\n",
      "435/435 [==============================] - 469s 1s/step - loss: 0.4721 - accuracy: 0.8285 - val_loss: 0.9209 - val_accuracy: 0.7343 - lr: 1.0000e-05\n",
      "Epoch 3/20\n",
      "435/435 [==============================] - 468s 1s/step - loss: 0.2994 - accuracy: 0.9008 - val_loss: 0.9653 - val_accuracy: 0.7591 - lr: 1.0000e-05\n",
      "Epoch 4/20\n",
      "435/435 [==============================] - 468s 1s/step - loss: 0.2228 - accuracy: 0.9266 - val_loss: 1.0375 - val_accuracy: 0.7798 - lr: 1.0000e-05\n",
      "Epoch 5/20\n",
      "435/435 [==============================] - 499s 1s/step - loss: 0.1567 - accuracy: 0.9500 - val_loss: 1.0254 - val_accuracy: 0.8040 - lr: 1.0000e-05\n",
      "Epoch 6/20\n",
      "435/435 [==============================] - 494s 1s/step - loss: 0.1291 - accuracy: 0.9597 - val_loss: 1.1073 - val_accuracy: 0.8138 - lr: 1.0000e-05\n",
      "Epoch 7/20\n",
      "435/435 [==============================] - 487s 1s/step - loss: 0.1052 - accuracy: 0.9666 - val_loss: 1.0723 - val_accuracy: 0.8300 - lr: 1.0000e-05\n",
      "Epoch 8/20\n",
      "435/435 [==============================] - 494s 1s/step - loss: 0.0971 - accuracy: 0.9709 - val_loss: 1.2032 - val_accuracy: 0.8184 - lr: 2.0000e-06\n",
      "Epoch 9/20\n",
      "435/435 [==============================] - 496s 1s/step - loss: 0.0851 - accuracy: 0.9751 - val_loss: 1.2191 - val_accuracy: 0.8219 - lr: 2.0000e-06\n",
      "Epoch 10/20\n",
      "435/435 [==============================] - 499s 1s/step - loss: 0.0893 - accuracy: 0.9726 - val_loss: 1.2496 - val_accuracy: 0.8184 - lr: 2.0000e-06\n",
      "Epoch 11/20\n",
      "435/435 [==============================] - 484s 1s/step - loss: 0.0909 - accuracy: 0.9690 - val_loss: 1.2797 - val_accuracy: 0.8161 - lr: 2.0000e-06\n",
      "Epoch 12/20\n",
      "435/435 [==============================] - 476s 1s/step - loss: 0.0780 - accuracy: 0.9764 - val_loss: 1.2330 - val_accuracy: 0.8219 - lr: 2.0000e-06\n"
     ]
    }
   ],
   "source": [
    "# Train the model with more epochs and callbacks\n",
    "history = model.fit(\n",
    "    train_generator,\n",
    "    epochs=20,  # Increased epochs for better training\n",
    "    validation_data=val_generator,\n",
    "    callbacks=[reduce_lr, early_stop],\n",
    "    class_weight=class_weights_dict\n",
    ")"
   ]
  },
  {
   "cell_type": "code",
   "execution_count": 13,
   "id": "85de890f-95e9-498e-af47-146852e10dc3",
   "metadata": {},
   "outputs": [
    {
     "name": "stdout",
     "output_type": "stream",
     "text": [
      "109/109 [==============================] - 131s 1s/step - loss: 0.9249 - accuracy: 0.7314\n",
      "Validation accuracy: 0.73\n"
     ]
    }
   ],
   "source": [
    "# Evaluate the model on validation data\n",
    "val_loss, val_acc = model.evaluate(val_generator)\n",
    "print(f'Validation accuracy: {val_acc:.2f}')"
   ]
  },
  {
   "cell_type": "code",
   "execution_count": 14,
   "id": "0bbd384c-a25e-49eb-8199-a6984b4a507c",
   "metadata": {},
   "outputs": [],
   "source": [
    "# Save the model in the native Keras format\n",
    "model.save('soyabean_densenet121_model_improved.keras')"
   ]
  },
  {
   "cell_type": "code",
   "execution_count": 16,
   "id": "a0ed308b-51a7-4046-a1ee-8665ee9db81e",
   "metadata": {},
   "outputs": [
    {
     "name": "stdout",
     "output_type": "stream",
     "text": [
      "Collecting matplotlib\n",
      "  Downloading matplotlib-3.7.5-cp38-cp38-win_amd64.whl.metadata (5.8 kB)\n",
      "Collecting seaborn\n",
      "  Downloading seaborn-0.13.2-py3-none-any.whl.metadata (5.4 kB)\n",
      "Collecting contourpy>=1.0.1 (from matplotlib)\n",
      "  Downloading contourpy-1.1.1-cp38-cp38-win_amd64.whl.metadata (5.9 kB)\n",
      "Collecting cycler>=0.10 (from matplotlib)\n",
      "  Downloading cycler-0.12.1-py3-none-any.whl.metadata (3.8 kB)\n",
      "Collecting fonttools>=4.22.0 (from matplotlib)\n",
      "  Downloading fonttools-4.54.1-cp38-cp38-win_amd64.whl.metadata (167 kB)\n",
      "Collecting kiwisolver>=1.0.1 (from matplotlib)\n",
      "  Downloading kiwisolver-1.4.7-cp38-cp38-win_amd64.whl.metadata (6.4 kB)\n",
      "Requirement already satisfied: numpy<2,>=1.20 in c:\\users\\yasodha\\appdata\\roaming\\python\\python38\\site-packages (from matplotlib) (1.24.3)\n",
      "Requirement already satisfied: packaging>=20.0 in c:\\users\\yasodha\\appdata\\roaming\\python\\python38\\site-packages (from matplotlib) (24.1)\n",
      "Requirement already satisfied: pillow>=6.2.0 in c:\\users\\yasodha\\anaconda3\\envs\\gpuenv\\lib\\site-packages (from matplotlib) (10.4.0)\n",
      "Collecting pyparsing>=2.3.1 (from matplotlib)\n",
      "  Downloading pyparsing-3.1.4-py3-none-any.whl.metadata (5.1 kB)\n",
      "Requirement already satisfied: python-dateutil>=2.7 in c:\\users\\yasodha\\appdata\\roaming\\python\\python38\\site-packages (from matplotlib) (2.9.0.post0)\n",
      "Requirement already satisfied: importlib-resources>=3.2.0 in c:\\users\\yasodha\\anaconda3\\envs\\gpuenv\\lib\\site-packages (from matplotlib) (6.4.0)\n",
      "Collecting pandas>=1.2 (from seaborn)\n",
      "  Downloading pandas-2.0.3-cp38-cp38-win_amd64.whl.metadata (18 kB)\n",
      "Requirement already satisfied: zipp>=3.1.0 in c:\\users\\yasodha\\appdata\\roaming\\python\\python38\\site-packages (from importlib-resources>=3.2.0->matplotlib) (3.20.2)\n",
      "Requirement already satisfied: pytz>=2020.1 in c:\\users\\yasodha\\anaconda3\\envs\\gpuenv\\lib\\site-packages (from pandas>=1.2->seaborn) (2024.1)\n",
      "Collecting tzdata>=2022.1 (from pandas>=1.2->seaborn)\n",
      "  Downloading tzdata-2024.2-py2.py3-none-any.whl.metadata (1.4 kB)\n",
      "Requirement already satisfied: six>=1.5 in c:\\users\\yasodha\\appdata\\roaming\\python\\python38\\site-packages (from python-dateutil>=2.7->matplotlib) (1.16.0)\n",
      "Downloading matplotlib-3.7.5-cp38-cp38-win_amd64.whl (7.5 MB)\n",
      "   ---------------------------------------- 0.0/7.5 MB ? eta -:--:--\n",
      "   - -------------------------------------- 0.3/7.5 MB ? eta -:--:--\n",
      "   ---- ----------------------------------- 0.8/7.5 MB 2.2 MB/s eta 0:00:03\n",
      "   ------ --------------------------------- 1.3/7.5 MB 2.1 MB/s eta 0:00:03\n",
      "   ----------- ---------------------------- 2.1/7.5 MB 2.3 MB/s eta 0:00:03\n",
      "   ------------- -------------------------- 2.6/7.5 MB 2.5 MB/s eta 0:00:02\n",
      "   ---------------- ----------------------- 3.1/7.5 MB 2.5 MB/s eta 0:00:02\n",
      "   ------------------ --------------------- 3.4/7.5 MB 2.3 MB/s eta 0:00:02\n",
      "   -------------------- ------------------- 3.9/7.5 MB 2.3 MB/s eta 0:00:02\n",
      "   -------------------------- ------------- 5.0/7.5 MB 2.7 MB/s eta 0:00:01\n",
      "   -------------------------------- ------- 6.0/7.5 MB 2.9 MB/s eta 0:00:01\n",
      "   ------------------------------------- -- 7.1/7.5 MB 3.1 MB/s eta 0:00:01\n",
      "   ---------------------------------------- 7.5/7.5 MB 3.1 MB/s eta 0:00:00\n",
      "Downloading seaborn-0.13.2-py3-none-any.whl (294 kB)\n",
      "Downloading contourpy-1.1.1-cp38-cp38-win_amd64.whl (477 kB)\n",
      "Downloading cycler-0.12.1-py3-none-any.whl (8.3 kB)\n",
      "Downloading fonttools-4.54.1-cp38-cp38-win_amd64.whl (1.5 MB)\n",
      "   ---------------------------------------- 0.0/1.5 MB ? eta -:--:--\n",
      "   ------ --------------------------------- 0.3/1.5 MB ? eta -:--:--\n",
      "   ---------------------------------- ----- 1.3/1.5 MB 2.9 MB/s eta 0:00:01\n",
      "   ---------------------------------------- 1.5/1.5 MB 2.9 MB/s eta 0:00:00\n",
      "Downloading kiwisolver-1.4.7-cp38-cp38-win_amd64.whl (55 kB)\n",
      "Downloading pandas-2.0.3-cp38-cp38-win_amd64.whl (10.8 MB)\n",
      "   ---------------------------------------- 0.0/10.8 MB ? eta -:--:--\n",
      "   --- ------------------------------------ 1.0/10.8 MB 5.6 MB/s eta 0:00:02\n",
      "   ------- -------------------------------- 2.1/10.8 MB 5.3 MB/s eta 0:00:02\n",
      "   ------------ --------------------------- 3.4/10.8 MB 5.4 MB/s eta 0:00:02\n",
      "   ----------------- ---------------------- 4.7/10.8 MB 5.7 MB/s eta 0:00:02\n",
      "   -------------------- ------------------- 5.5/10.8 MB 5.3 MB/s eta 0:00:01\n",
      "   ----------------------- ---------------- 6.3/10.8 MB 5.1 MB/s eta 0:00:01\n",
      "   --------------------------- ------------ 7.3/10.8 MB 5.3 MB/s eta 0:00:01\n",
      "   ------------------------------- -------- 8.4/10.8 MB 5.1 MB/s eta 0:00:01\n",
      "   ----------------------------------- ---- 9.4/10.8 MB 5.0 MB/s eta 0:00:01\n",
      "   ------------------------------------- -- 10.2/10.8 MB 4.9 MB/s eta 0:00:01\n",
      "   ---------------------------------------- 10.8/10.8 MB 4.8 MB/s eta 0:00:00\n",
      "Downloading pyparsing-3.1.4-py3-none-any.whl (104 kB)\n",
      "Downloading tzdata-2024.2-py2.py3-none-any.whl (346 kB)\n",
      "Installing collected packages: tzdata, pyparsing, kiwisolver, fonttools, cycler, contourpy, pandas, matplotlib, seaborn\n",
      "Successfully installed contourpy-1.1.1 cycler-0.12.1 fonttools-4.54.1 kiwisolver-1.4.7 matplotlib-3.7.5 pandas-2.0.3 pyparsing-3.1.4 seaborn-0.13.2 tzdata-2024.2\n"
     ]
    }
   ],
   "source": [
    "!pip install matplotlib seaborn"
   ]
  },
  {
   "cell_type": "code",
   "execution_count": 17,
   "id": "7e8ad9b5-70e0-4fc0-b381-8639d34e4b24",
   "metadata": {},
   "outputs": [],
   "source": [
    "# Import necessary libraries for plotting and evaluation\n",
    "import matplotlib.pyplot as plt\n",
    "from sklearn.metrics import confusion_matrix, classification_report\n",
    "import seaborn as sns"
   ]
  },
  {
   "cell_type": "code",
   "execution_count": 18,
   "id": "6aa73c86-614b-42da-9a10-59b181e5e912",
   "metadata": {},
   "outputs": [
    {
     "data": {
      "text/plain": [
       "<matplotlib.legend.Legend at 0x17d9e648fd0>"
      ]
     },
     "execution_count": 18,
     "metadata": {},
     "output_type": "execute_result"
    },
    {
     "data": {
      "image/png": "[encoded data removed]",
      "text/plain": [
       "<Figure size 1200x600 with 1 Axes>"
      ]
     },
     "metadata": {},
     "output_type": "display_data"
    }
   ],
   "source": [
    "# Assuming 'history' is the result of model.fit()\n",
    "# Plot training & validation accuracy values\n",
    "plt.figure(figsize=(12, 6))\n",
    "plt.subplot(1, 2, 1)\n",
    "plt.plot(history.history['accuracy'], label='Train Accuracy')\n",
    "plt.plot(history.history['val_accuracy'], label='Val Accuracy')\n",
    "plt.title('Model Accuracy')\n",
    "plt.ylabel('Accuracy')\n",
    "plt.xlabel('Epoch')\n",
    "plt.legend(loc='upper left')"
   ]
  },
  {
   "cell_type": "code",
   "execution_count": 19,
   "id": "304e0080-87e4-41a1-8253-c2f181cac9a4",
   "metadata": {},
   "outputs": [
    {
     "data": {
      "image/png": "[encoded data removed]",
      "text/plain": [
       "<Figure size 640x480 with 1 Axes>"
      ]
     },
     "metadata": {},
     "output_type": "display_data"
    }
   ],
   "source": [
    "# Plot training & validation loss values\n",
    "plt.subplot(1, 2, 2)\n",
    "plt.plot(history.history['loss'], label='Train Loss')\n",
    "plt.plot(history.history['val_loss'], label='Val Loss')\n",
    "plt.title('Model Loss')\n",
    "plt.ylabel('Loss')\n",
    "plt.xlabel('Epoch')\n",
    "plt.legend(loc='upper left')\n",
    "plt.tight_layout()\n",
    "plt.show()"
   ]
  },
  {
   "cell_type": "code",
   "execution_count": null,
   "id": "a26147dd-de26-47b3-83c3-5b36b2a2d26c",
   "metadata": {},
   "outputs": [],
   "source": []
  }
 ],
 "metadata": {
  "kernelspec": {
   "display_name": "Python 3 (ipykernel)",
   "language": "python",
   "name": "python3"
  },
  "language_info": {
   "codemirror_mode": {
    "name": "ipython",
    "version": 3
   },
   "file_extension": ".py",
   "mimetype": "text/x-python",
   "name": "python",
   "nbconvert_exporter": "python",
   "pygments_lexer": "ipython3",
   "version": "3.8.18"
  }
 },
 "nbformat": 4,
 "nbformat_minor": 5
}
